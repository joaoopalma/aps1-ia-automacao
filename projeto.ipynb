{
 "cells": [
  {
   "cell_type": "markdown",
   "id": "366fcf65",
   "metadata": {},
   "source": [
    "# APS 1 - Aprendizado de máquina "
   ]
  },
  {
   "cell_type": "code",
   "execution_count": 7,
   "id": "c709fef7",
   "metadata": {},
   "outputs": [
    {
     "ename": "ModuleNotFoundError",
     "evalue": "No module named 'pandas'",
     "output_type": "error",
     "traceback": [
      "\u001b[0;31m---------------------------------------------------------------------------\u001b[0m",
      "\u001b[0;31mModuleNotFoundError\u001b[0m                       Traceback (most recent call last)",
      "Cell \u001b[0;32mIn[7], line 1\u001b[0m\n\u001b[0;32m----> 1\u001b[0m \u001b[38;5;28;01mimport\u001b[39;00m\u001b[38;5;250m \u001b[39m\u001b[38;5;21;01mpandas\u001b[39;00m\u001b[38;5;250m \u001b[39m\u001b[38;5;28;01mas\u001b[39;00m\u001b[38;5;250m \u001b[39m\u001b[38;5;21;01mpd\u001b[39;00m\n\u001b[1;32m      3\u001b[0m \u001b[38;5;66;03m# Carregar o arquivo Excel\u001b[39;00m\n\u001b[1;32m      4\u001b[0m df \u001b[38;5;241m=\u001b[39m pd\u001b[38;5;241m.\u001b[39mread_excel(\u001b[38;5;124m'\u001b[39m\u001b[38;5;124mDataset APS1_Sinais Eletricos e Vibracao_csv.xls\u001b[39m\u001b[38;5;124m'\u001b[39m)\n",
      "\u001b[0;31mModuleNotFoundError\u001b[0m: No module named 'pandas'"
     ]
    }
   ],
   "source": [
    "import pandas as pd\n",
    "\n",
    "# Carregar o arquivo Excel\n",
    "df = pd.read_excel('Dataset APS1_Sinais Eletricos e Vibracao_csv.xls')\n",
    "\n",
    "# Exibir as primeiras linhas do dataframe\n",
    "print(df.head())"
   ]
  },
  {
   "cell_type": "markdown",
   "id": "590004d2",
   "metadata": {},
   "source": [
    "## Problema\n",
    "O projeto de IA para automação tem como objetivo aplicar técnicas de Aprendizado de Máquina para desenvolver um **classificador de falhas** em aplicações industriais acionadas por motores elétricos para máquinas rotativas (ventiladores, bombas, agitadores, esteiras, etc.).  \n",
    "\n",
    "As condições possíveis de operação são:\n",
    "- **0** → Normal  \n",
    "- **1** → Desacoplado  \n",
    "- **2** → Sobrecarga  \n",
    "- **3** → Desbalanceado  \n",
    "- **4** → Desalinhado  \n",
    "\n",
    "A partir de atributos gerados dos sinais coletados (grandezas elétricas e vibração), o classificador deverá identificar corretamente a condição da máquina.\n"
   ]
  },
  {
   "cell_type": "code",
   "execution_count": null,
   "id": "4431be3d",
   "metadata": {},
   "outputs": [],
   "source": []
  }
 ],
 "metadata": {
  "kernelspec": {
   "display_name": "venv",
   "language": "python",
   "name": "python3"
  },
  "language_info": {
   "codemirror_mode": {
    "name": "ipython",
    "version": 3
   },
   "file_extension": ".py",
   "mimetype": "text/x-python",
   "name": "python",
   "nbconvert_exporter": "python",
   "pygments_lexer": "ipython3",
   "version": "3.10.12"
  }
 },
 "nbformat": 4,
 "nbformat_minor": 5
}
